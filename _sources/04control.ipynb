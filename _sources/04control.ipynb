{
 "cells": [
  {
   "cell_type": "markdown",
   "metadata": {},
   "source": [
    "# 実行制御"
   ]
  },
  {
   "cell_type": "markdown",
   "metadata": {},
   "source": [
    "## for文（反復処理）"
   ]
  },
  {
   "cell_type": "markdown",
   "metadata": {},
   "source": [
    "Pythonでは$i = 0, 1, \\dots, 9$の反復を，[for](https://docs.python.org/ja/3/reference/compound_stmts.html#the-for-statement)文を使い，\n",
    "\n",
    "```python\n",
    "for i in range(10):\n",
    "    # 各反復における処理\n",
    "```\n",
    "\n",
    "と表現する．反復する処理はインデントを一つ下げて記述し，反復終了後の処理は元のインデントで記述する．インデントが反復処理の範囲を明示する手段となっていることに注意せよ．\n",
    "\n",
    "多くのエディタでは，`[Tab]`キーでインデントを一つ下げ，`[Back Space]`キーでインデントを一つ上げることができる．インデントは空白文字4文字で表現されることが多いが，ソースコード中で一貫性が保たれていれば，インデントを表現する空白文字数は任意である（例えば2文字でもよい）．ただ，[スタイルガイド（PEP 8）](https://www.python.org/dev/peps/pep-0008/)によると4文字のインデントが推奨されている．\n",
    "\n",
    "なお，C言語では，反復処理を次のように表現する（各反復における処理は`{`と`}`で挟まれているブロックで表現され，インデントは任意である）．\n",
    "\n",
    "```c\n",
    "for (int i = 0; i < 10; ++i) {\n",
    "    // 各反復における処理\n",
    "}\n",
    "```"
   ]
  },
  {
   "cell_type": "markdown",
   "metadata": {},
   "source": [
    "以下のコードは文字wを10回出力する．[print](https://docs.python.org/ja/3/library/functions.html#print)関数において`end=''`を指定して，改行を抑制している．"
   ]
  },
  {
   "cell_type": "code",
   "execution_count": 1,
   "metadata": {},
   "outputs": [
    {
     "name": "stdout",
     "output_type": "stream",
     "text": [
      "wwwwwwwwww"
     ]
    }
   ],
   "source": [
    "for i in range(10):\n",
    "    print('w', end='')"
   ]
  },
  {
   "cell_type": "markdown",
   "metadata": {},
   "source": [
    "$i=0, 1, \\dots, 9$に対して，$1089 \\times i$を計算する．print関数に複数の式をカンマ区切りで与えると，その値がスペース区切りで出力される．"
   ]
  },
  {
   "cell_type": "code",
   "execution_count": 2,
   "metadata": {},
   "outputs": [
    {
     "name": "stdout",
     "output_type": "stream",
     "text": [
      "0 0\n",
      "1 1089\n",
      "2 2178\n",
      "3 3267\n",
      "4 4356\n",
      "5 5445\n",
      "6 6534\n",
      "7 7623\n",
      "8 8712\n",
      "9 9801\n"
     ]
    }
   ],
   "source": [
    "for i in range(10):\n",
    "    print(i, 1089 * i)"
   ]
  },
  {
   "cell_type": "markdown",
   "metadata": {},
   "source": [
    "$i = 1, 2, \\dots, 9$に対して反復を行うには，`for i in range(1, 10):`とする（$i=1$と$i=9$，$i=2$と$i=8$のときの計算結果を見比べると面白い）．"
   ]
  },
  {
   "cell_type": "code",
   "execution_count": 3,
   "metadata": {},
   "outputs": [
    {
     "name": "stdout",
     "output_type": "stream",
     "text": [
      "1 1089\n",
      "2 2178\n",
      "3 3267\n",
      "4 4356\n",
      "5 5445\n",
      "6 6534\n",
      "7 7623\n",
      "8 8712\n",
      "9 9801\n"
     ]
    }
   ],
   "source": [
    "for i in range(1, 10):\n",
    "    print(i, 1089 * i)"
   ]
  },
  {
   "cell_type": "markdown",
   "metadata": {},
   "source": [
    "次に，$1$から$10$までの自然数の和，すなわち$\\sum_{i=1}^{10}i$を求めたい．以下のコードは，変数`s`を定義せずに`i`の値を加算しようとしたため，「`s`が未定義である」というエラーが発生する．"
   ]
  },
  {
   "cell_type": "code",
   "execution_count": 4,
   "metadata": {
    "tags": [
     "raises-exception"
    ]
   },
   "outputs": [
    {
     "ename": "NameError",
     "evalue": "name 's' is not defined",
     "output_type": "error",
     "traceback": [
      "\u001b[0;31m---------------------------------------------------------------------------\u001b[0m",
      "\u001b[0;31mNameError\u001b[0m                                 Traceback (most recent call last)",
      "\u001b[0;32m<ipython-input-4-fe2a14836d5d>\u001b[0m in \u001b[0;36m<module>\u001b[0;34m\u001b[0m\n\u001b[1;32m      1\u001b[0m \u001b[0;32mfor\u001b[0m \u001b[0mi\u001b[0m \u001b[0;32min\u001b[0m \u001b[0mrange\u001b[0m\u001b[0;34m(\u001b[0m\u001b[0;36m1\u001b[0m\u001b[0;34m,\u001b[0m \u001b[0;36m11\u001b[0m\u001b[0;34m)\u001b[0m\u001b[0;34m:\u001b[0m\u001b[0;34m\u001b[0m\u001b[0;34m\u001b[0m\u001b[0m\n\u001b[0;32m----> 2\u001b[0;31m     \u001b[0ms\u001b[0m \u001b[0;34m+=\u001b[0m \u001b[0mi\u001b[0m\u001b[0;34m\u001b[0m\u001b[0;34m\u001b[0m\u001b[0m\n\u001b[0m\u001b[1;32m      3\u001b[0m \u001b[0ms\u001b[0m\u001b[0;34m\u001b[0m\u001b[0;34m\u001b[0m\u001b[0m\n",
      "\u001b[0;31mNameError\u001b[0m: name 's' is not defined"
     ]
    }
   ],
   "source": [
    "for i in range(1, 11):\n",
    "    s += i\n",
    "s"
   ]
  },
  {
   "cell_type": "markdown",
   "metadata": {},
   "source": [
    "この問題に対処するには，反復を始める前に`s = 0`を実行し，変数`s`に初期値$0$を代入しておけばよい．"
   ]
  },
  {
   "cell_type": "code",
   "execution_count": 5,
   "metadata": {},
   "outputs": [
    {
     "data": {
      "text/plain": [
       "55"
      ]
     },
     "execution_count": 5,
     "metadata": {},
     "output_type": "execute_result"
    }
   ],
   "source": [
    "s = 0\n",
    "for i in range(1, 11):\n",
    "    s += i\n",
    "s"
   ]
  },
  {
   "cell_type": "markdown",
   "metadata": {},
   "source": [
    "反復の範囲を$1$から$20$までの奇数とするには，`range(1, 21, 2)`とする．"
   ]
  },
  {
   "cell_type": "code",
   "execution_count": 6,
   "metadata": {},
   "outputs": [
    {
     "name": "stdout",
     "output_type": "stream",
     "text": [
      "1 1\n",
      "3 4\n",
      "5 9\n",
      "7 16\n",
      "9 25\n",
      "11 36\n",
      "13 49\n",
      "15 64\n",
      "17 81\n",
      "19 100\n"
     ]
    },
    {
     "data": {
      "text/plain": [
       "100"
      ]
     },
     "execution_count": 6,
     "metadata": {},
     "output_type": "execute_result"
    }
   ],
   "source": [
    "s = 0\n",
    "for i in range(1, 21, 2):\n",
    "    s += i\n",
    "    print(i, s)\n",
    "s"
   ]
  },
  {
   "cell_type": "markdown",
   "metadata": {},
   "source": [
    "## if文（条件分岐）"
   ]
  },
  {
   "cell_type": "markdown",
   "metadata": {},
   "source": [
    "条件に応じて異なる処理を実行するには[if](https://docs.python.org/ja/3/reference/compound_stmts.html#the-if-statement)文を使う．if文は，与えられた条件式が満たされれば，インデントされた箇所のコードを実行する．\n",
    "\n",
    "```python\n",
    "if 条件式:\n",
    "    # 条件が満たされた時に実行する処理\n",
    "```\n",
    "\n",
    "なお，C言語では，条件分岐を以下のように表現する（条件が満たされたときの処理は`{`と`}`で挟まれているブロックで表現され，インデントは任意である）．\n",
    "\n",
    "```c\n",
    "if (condition) {\n",
    "    // 条件が満たされた時に実行する処理\n",
    "}\n",
    "```\n",
    "\n",
    "以下のコードでは，`37.5 <= x`の評価結果は偽なので，何も出力されない（試しに`x = 38.0`などに変更して実行してみるとよい）．"
   ]
  },
  {
   "cell_type": "code",
   "execution_count": 7,
   "metadata": {},
   "outputs": [],
   "source": [
    "x = 37.1"
   ]
  },
  {
   "cell_type": "code",
   "execution_count": 8,
   "metadata": {},
   "outputs": [],
   "source": [
    "if 37.5 <= x:\n",
    "    print('熱がある')"
   ]
  },
  {
   "cell_type": "markdown",
   "metadata": {},
   "source": [
    "条件式が満たされないときに実行する処理は，else節に記述する．"
   ]
  },
  {
   "cell_type": "code",
   "execution_count": 9,
   "metadata": {},
   "outputs": [
    {
     "name": "stdout",
     "output_type": "stream",
     "text": [
      "熱がない\n"
     ]
    }
   ],
   "source": [
    "if 37.5 <= x:\n",
    "    print('熱がある')\n",
    "else:\n",
    "    print('熱がない')    "
   ]
  },
  {
   "cell_type": "markdown",
   "metadata": {},
   "source": [
    "条件式が満たされないとき，さらに別の条件式を適用したいときは，elif節を使う．"
   ]
  },
  {
   "cell_type": "code",
   "execution_count": 10,
   "metadata": {},
   "outputs": [
    {
     "name": "stdout",
     "output_type": "stream",
     "text": [
      "微熱がある\n"
     ]
    }
   ],
   "source": [
    "if 37.5 <= x:\n",
    "    print('熱がある')\n",
    "elif 37.0 <= x:\n",
    "    print('微熱がある')\n",
    "else:\n",
    "    print('熱がない')   "
   ]
  },
  {
   "cell_type": "markdown",
   "metadata": {},
   "source": [
    "なお，if文において間違って代入文を用いるとエラーとなる（C言語ではエラーにならず，気づきにくいバグの原因となる）．"
   ]
  },
  {
   "cell_type": "code",
   "execution_count": 11,
   "metadata": {
    "tags": [
     "raises-exception"
    ]
   },
   "outputs": [
    {
     "ename": "SyntaxError",
     "evalue": "invalid syntax (<ipython-input-11-161ad9230d01>, line 1)",
     "output_type": "error",
     "traceback": [
      "\u001b[0;36m  File \u001b[0;32m\"<ipython-input-11-161ad9230d01>\"\u001b[0;36m, line \u001b[0;32m1\u001b[0m\n\u001b[0;31m    if x = 37.5:\u001b[0m\n\u001b[0m         ^\u001b[0m\n\u001b[0;31mSyntaxError\u001b[0m\u001b[0;31m:\u001b[0m invalid syntax\n"
     ]
    }
   ],
   "source": [
    "if x = 37.5:\n",
    "    print('熱がギリギリある')"
   ]
  },
  {
   "cell_type": "markdown",
   "metadata": {},
   "source": [
    "### 比較演算とブール値"
   ]
  },
  {
   "cell_type": "markdown",
   "metadata": {},
   "source": [
    "`37.5 <= x`のような比較演算は値を比較した結果をブール値 `True` または `False` で返す．\n",
    "+ `x == y`: `x`と`y`は等しい（代入文における`=`と誤用しないように注意せよ）\n",
    "+ `x != y`: `x`と`y`は等しくない\n",
    "+ `x < y`: `x`は`y`よりも小さい\n",
    "+ `x > y`: `x`は`y`よりも大きい\n",
    "+ `x <= y`: `x`は`y`よりも小さいか等しい\n",
    "+ `x >= y`: `x`は`y`よりも大きいか等しい"
   ]
  },
  {
   "cell_type": "code",
   "execution_count": 12,
   "metadata": {},
   "outputs": [
    {
     "data": {
      "text/plain": [
       "37.1"
      ]
     },
     "execution_count": 12,
     "metadata": {},
     "output_type": "execute_result"
    }
   ],
   "source": [
    "x"
   ]
  },
  {
   "cell_type": "code",
   "execution_count": 13,
   "metadata": {},
   "outputs": [
    {
     "data": {
      "text/plain": [
       "False"
      ]
     },
     "execution_count": 13,
     "metadata": {},
     "output_type": "execute_result"
    }
   ],
   "source": [
    "x == 37.5"
   ]
  },
  {
   "cell_type": "code",
   "execution_count": 14,
   "metadata": {},
   "outputs": [
    {
     "data": {
      "text/plain": [
       "True"
      ]
     },
     "execution_count": 14,
     "metadata": {},
     "output_type": "execute_result"
    }
   ],
   "source": [
    "x != 37.5"
   ]
  },
  {
   "cell_type": "code",
   "execution_count": 15,
   "metadata": {},
   "outputs": [
    {
     "data": {
      "text/plain": [
       "True"
      ]
     },
     "execution_count": 15,
     "metadata": {},
     "output_type": "execute_result"
    }
   ],
   "source": [
    "x < 37.5"
   ]
  },
  {
   "cell_type": "code",
   "execution_count": 16,
   "metadata": {},
   "outputs": [
    {
     "data": {
      "text/plain": [
       "False"
      ]
     },
     "execution_count": 16,
     "metadata": {},
     "output_type": "execute_result"
    }
   ],
   "source": [
    "x > 37.5"
   ]
  },
  {
   "cell_type": "code",
   "execution_count": 17,
   "metadata": {},
   "outputs": [
    {
     "data": {
      "text/plain": [
       "True"
      ]
     },
     "execution_count": 17,
     "metadata": {},
     "output_type": "execute_result"
    }
   ],
   "source": [
    "x <= 37.5"
   ]
  },
  {
   "cell_type": "code",
   "execution_count": 18,
   "metadata": {},
   "outputs": [
    {
     "data": {
      "text/plain": [
       "False"
      ]
     },
     "execution_count": 18,
     "metadata": {},
     "output_type": "execute_result"
    }
   ],
   "source": [
    "x >= 37.5"
   ]
  },
  {
   "cell_type": "markdown",
   "metadata": {},
   "source": [
    "これまで見てきたif文による条件分岐は，以下の処理の合成である．\n",
    "1. if文に書かれている比較演算を評価する\n",
    "2. その評価結果が`True`ならばif節を，`False`ならばelse節を実行する\n",
    "\n",
    "例えば，以下のコードでは`37.5 <= x`の比較演算を評価し，その結果が`False`であるのでelse節が実行される．"
   ]
  },
  {
   "cell_type": "code",
   "execution_count": 19,
   "metadata": {},
   "outputs": [
    {
     "name": "stdout",
     "output_type": "stream",
     "text": [
      "熱がない\n"
     ]
    }
   ],
   "source": [
    "if 37.5 <= x:\n",
    "    print('熱がある')\n",
    "else:\n",
    "    print('熱がない')"
   ]
  },
  {
   "cell_type": "markdown",
   "metadata": {},
   "source": [
    "### 論理演算"
   ]
  },
  {
   "cell_type": "markdown",
   "metadata": {},
   "source": [
    "否定は`not`で表現する（以下の例で`not`を使うのは分かりにくい）．"
   ]
  },
  {
   "cell_type": "code",
   "execution_count": 20,
   "metadata": {},
   "outputs": [
    {
     "data": {
      "text/plain": [
       "True"
      ]
     },
     "execution_count": 20,
     "metadata": {},
     "output_type": "execute_result"
    }
   ],
   "source": [
    "not x >= 37.5"
   ]
  },
  {
   "cell_type": "code",
   "execution_count": 21,
   "metadata": {},
   "outputs": [
    {
     "data": {
      "text/plain": [
       "True"
      ]
     },
     "execution_count": 21,
     "metadata": {},
     "output_type": "execute_result"
    }
   ],
   "source": [
    "not x == 37.5"
   ]
  },
  {
   "cell_type": "markdown",
   "metadata": {},
   "source": [
    "真理値`True`と`False`は組み込み定数として用意されている．"
   ]
  },
  {
   "cell_type": "code",
   "execution_count": 22,
   "metadata": {},
   "outputs": [
    {
     "data": {
      "text/plain": [
       "True"
      ]
     },
     "execution_count": 22,
     "metadata": {},
     "output_type": "execute_result"
    }
   ],
   "source": [
    "True"
   ]
  },
  {
   "cell_type": "code",
   "execution_count": 23,
   "metadata": {},
   "outputs": [
    {
     "data": {
      "text/plain": [
       "False"
      ]
     },
     "execution_count": 23,
     "metadata": {},
     "output_type": "execute_result"
    }
   ],
   "source": [
    "False"
   ]
  },
  {
   "cell_type": "code",
   "execution_count": 24,
   "metadata": {},
   "outputs": [
    {
     "data": {
      "text/plain": [
       "False"
      ]
     },
     "execution_count": 24,
     "metadata": {},
     "output_type": "execute_result"
    }
   ],
   "source": [
    "not True"
   ]
  },
  {
   "cell_type": "code",
   "execution_count": 25,
   "metadata": {},
   "outputs": [
    {
     "data": {
      "text/plain": [
       "True"
      ]
     },
     "execution_count": 25,
     "metadata": {},
     "output_type": "execute_result"
    }
   ],
   "source": [
    "not False"
   ]
  },
  {
   "cell_type": "markdown",
   "metadata": {},
   "source": [
    "複数の条件の論理積を取るには，`and`を用いる．"
   ]
  },
  {
   "cell_type": "code",
   "execution_count": 26,
   "metadata": {},
   "outputs": [
    {
     "name": "stdout",
     "output_type": "stream",
     "text": [
      "微熱がある\n"
     ]
    }
   ],
   "source": [
    "if 37.0 <= x and x < 37.5:\n",
    "    print('微熱がある')"
   ]
  },
  {
   "cell_type": "markdown",
   "metadata": {},
   "source": [
    "なお，上のコードは次のように比較演算子の連結として表現できる．"
   ]
  },
  {
   "cell_type": "code",
   "execution_count": 27,
   "metadata": {},
   "outputs": [
    {
     "name": "stdout",
     "output_type": "stream",
     "text": [
      "微熱がある\n"
     ]
    }
   ],
   "source": [
    "if 37.0 <= x < 37.5:\n",
    "    print('微熱がある')"
   ]
  },
  {
   "cell_type": "markdown",
   "metadata": {},
   "source": [
    "複数の条件の論理和を取るには，`or`を用いる．"
   ]
  },
  {
   "cell_type": "code",
   "execution_count": 28,
   "metadata": {},
   "outputs": [],
   "source": [
    "n = 3"
   ]
  },
  {
   "cell_type": "code",
   "execution_count": 29,
   "metadata": {},
   "outputs": [
    {
     "data": {
      "text/plain": [
       "'ぼん'"
      ]
     },
     "execution_count": 29,
     "metadata": {},
     "output_type": "execute_result"
    }
   ],
   "source": [
    "if n == 1 or n == 6 or n == 8 or n == 10:\n",
    "    s = 'ぽん'\n",
    "elif n == 3:\n",
    "    s = 'ぼん'\n",
    "else:\n",
    "    s = 'ほん'\n",
    "s"
   ]
  },
  {
   "cell_type": "markdown",
   "metadata": {},
   "source": [
    "なお，上のコードは次のように`in`演算子とタプル`(..., ...)`で表現することができる（タプルの詳細についてはここでは説明しない）．`n in (1, 6, 8, 10)`は`n`が集合$\\{1, 6, 8, 10\\}$に含まれる場合は真、含まれない場合は偽となる。"
   ]
  },
  {
   "cell_type": "code",
   "execution_count": 30,
   "metadata": {},
   "outputs": [
    {
     "data": {
      "text/plain": [
       "'ぼん'"
      ]
     },
     "execution_count": 30,
     "metadata": {},
     "output_type": "execute_result"
    }
   ],
   "source": [
    "if n in (1, 6, 8, 10):\n",
    "    s = 'ぽん'\n",
    "elif n == 3:\n",
    "    s = 'ぼん'\n",
    "else:\n",
    "    s = 'ほん'\n",
    "s"
   ]
  },
  {
   "cell_type": "markdown",
   "metadata": {},
   "source": [
    "`in`演算子の否定として，`not in`演算子が用意されている．"
   ]
  },
  {
   "cell_type": "code",
   "execution_count": 31,
   "metadata": {},
   "outputs": [],
   "source": [
    "n = 4"
   ]
  },
  {
   "cell_type": "code",
   "execution_count": 32,
   "metadata": {},
   "outputs": [
    {
     "data": {
      "text/plain": [
       "True"
      ]
     },
     "execution_count": 32,
     "metadata": {},
     "output_type": "execute_result"
    }
   ],
   "source": [
    "n in (2, 4, 6, 8, 10)"
   ]
  },
  {
   "cell_type": "code",
   "execution_count": 33,
   "metadata": {},
   "outputs": [
    {
     "data": {
      "text/plain": [
       "False"
      ]
     },
     "execution_count": 33,
     "metadata": {},
     "output_type": "execute_result"
    }
   ],
   "source": [
    "n not in (2, 4, 6, 8, 10)"
   ]
  },
  {
   "cell_type": "markdown",
   "metadata": {},
   "source": [
    "上の条件付きは以下のように書くこともできるが，上の書き方の方が分かりやすい（英語としてそのまま読める）．"
   ]
  },
  {
   "cell_type": "code",
   "execution_count": 34,
   "metadata": {},
   "outputs": [
    {
     "data": {
      "text/plain": [
       "False"
      ]
     },
     "execution_count": 34,
     "metadata": {},
     "output_type": "execute_result"
    }
   ],
   "source": [
    "not n in (2, 4, 6, 8, 10)"
   ]
  },
  {
   "cell_type": "markdown",
   "metadata": {},
   "source": [
    "比較演算子や論理演算子の優先順位は，`in`, `not in`, `==`, `!=`, `<`, `>`, `<=`, `>=` > `not` > `and` > `or`である．優先順位は括弧で変更できる．"
   ]
  },
  {
   "cell_type": "code",
   "execution_count": 35,
   "metadata": {},
   "outputs": [
    {
     "data": {
      "text/plain": [
       "True"
      ]
     },
     "execution_count": 35,
     "metadata": {},
     "output_type": "execute_result"
    }
   ],
   "source": [
    "not n == 2 or n == 4 or n == 6 or n == 8 or n == 10"
   ]
  },
  {
   "cell_type": "code",
   "execution_count": 36,
   "metadata": {},
   "outputs": [
    {
     "data": {
      "text/plain": [
       "False"
      ]
     },
     "execution_count": 36,
     "metadata": {},
     "output_type": "execute_result"
    }
   ],
   "source": [
    "not (n == 2 or n == 4 or n == 6 or n == 8 or n == 10)"
   ]
  },
  {
   "cell_type": "markdown",
   "metadata": {},
   "source": [
    "## while文（条件付き反復）"
   ]
  },
  {
   "cell_type": "markdown",
   "metadata": {},
   "source": [
    "[while](https://docs.python.org/ja/3/reference/compound_stmts.html#the-while-statement)文は，与えられた条件式が満たされている間，インデントが一つ下がった箇所のコードを繰り返し実行する．\n",
    "\n",
    "```python\n",
    "while 条件式:\n",
    "    # 条件が満たされている間に反復する処理\n",
    "```\n",
    "\n",
    "なお，C言語での書き方も同様である（条件が満たされている間の処理は`{`と`}`で挟まれているブロックで表現され，インデントは任意である）．\n",
    "\n",
    "```c\n",
    "while (condition) {\n",
    "    // 条件が満たされた時に実行する処理\n",
    "}\n",
    "```"
   ]
  },
  {
   "cell_type": "markdown",
   "metadata": {},
   "source": [
    "変数$n$に任意の正の整数を代入し，$n$が偶数ならば2で割り，$n$が奇数ならば$n \\leftarrow 3n+1$とする処理を，$n=1$になるまで繰り返す（[コラッツの問題](https://ja.wikipedia.org/wiki/%E3%82%B3%E3%83%A9%E3%83%83%E3%83%84%E3%81%AE%E5%95%8F%E9%A1%8C)）．"
   ]
  },
  {
   "cell_type": "code",
   "execution_count": 37,
   "metadata": {},
   "outputs": [
    {
     "name": "stdout",
     "output_type": "stream",
     "text": [
      "18 9 28 14 7 22 11 34 17 52 26 13 40 20 10 5 16 8 4 2 1 "
     ]
    }
   ],
   "source": [
    "n = 36\n",
    "while n != 1:\n",
    "    if n % 2 == 0:\n",
    "        n //= 2\n",
    "    else:\n",
    "        n = 3 * n + 1\n",
    "    print(n, end=' ')"
   ]
  },
  {
   "cell_type": "markdown",
   "metadata": {},
   "source": [
    "`while True:`で無限ループとなる．ループから抜けるには[break](https://docs.python.org/ja/3/reference/simple_stmts.html#the-break-statement)文を使う．以下のプログラムは，$f(x) = x^2 - 2 = 0$の解の一つである$\\sqrt{2}$を[Newton-Raphson法](https://ja.wikipedia.org/wiki/%E3%83%8B%E3%83%A5%E3%83%BC%E3%83%88%E3%83%B3%E6%B3%95)で求める（`fx`と`gx`はそれぞれ，$f(x)$，$f'(x)$の値を格納する）．より正確には，Newton-Raphson法の更新式，\n",
    "\n",
    "$$\n",
    "x \\leftarrow x - \\frac{f(x)}{f'(x)}\n",
    "$$\n",
    "\n",
    "を繰り返し適用し，$|f(x)| < 10^{-8}$が満たされたときに無限ループから抜ける．"
   ]
  },
  {
   "cell_type": "code",
   "execution_count": 38,
   "metadata": {},
   "outputs": [
    {
     "name": "stdout",
     "output_type": "stream",
     "text": [
      "1 -1\n",
      "1.5 0.25\n",
      "1.4166666666666667 0.006944444444444642\n",
      "1.4142156862745099 6.007304882871267e-06\n",
      "1.4142135623746899 4.510614104447086e-12\n"
     ]
    }
   ],
   "source": [
    "x = 1\n",
    "while True:\n",
    "    fx = x ** 2 - 2\n",
    "    gx = 2 * x\n",
    "    print(x, fx)\n",
    "    if -1e-8 < fx < 1e-8:\n",
    "        break\n",
    "    x -= fx / gx"
   ]
  },
  {
   "cell_type": "markdown",
   "metadata": {},
   "source": [
    "なお，無限ループはプログラムが停止しなくなる恐れがある．もしプログラムが停止しなくなった場合は，Pythonの対話型シェルであればキーボードで`[Ctrl]+[c]`を押し，Jupyter Notebookであればメニューから\"Kernel\" - \"Interrupt Kernel\"を選択し，プログラムの実行を強制的に停止させよ．"
   ]
  },
  {
   "cell_type": "markdown",
   "metadata": {},
   "source": [
    "## continue文\n",
    "\n",
    "for文やwhile文による反復中に[continue](https://docs.python.org/ja/3/reference/simple_stmts.html#the-break-statement)文を実行すると，以降の処理を実行せずに次の反復に移る（C言語と同じ）．"
   ]
  },
  {
   "cell_type": "code",
   "execution_count": 39,
   "metadata": {},
   "outputs": [
    {
     "name": "stdout",
     "output_type": "stream",
     "text": [
      "4 = 2 * 2\n",
      "6 = 2 * 3\n",
      "8 = 2 * 4\n",
      "9 = 3 * 3\n",
      "10 = 2 * 5\n"
     ]
    }
   ],
   "source": [
    "N = 10\n",
    "for n in range(2, N+1):\n",
    "    for a in range(2, n//2+1):\n",
    "        if n % a != 0:\n",
    "            continue\n",
    "        print(n, '=', a, '*', n//a)\n",
    "        break"
   ]
  },
  {
   "cell_type": "markdown",
   "metadata": {},
   "source": [
    "## break文\n",
    "\n",
    "for文やwhile文による反復中に[break](https://docs.python.org/ja/3/reference/simple_stmts.html#the-break-statement)文を実行すると，以降の処理を実行せずに反復を終了する（C言語と同じ）．"
   ]
  },
  {
   "cell_type": "code",
   "execution_count": 40,
   "metadata": {},
   "outputs": [
    {
     "name": "stdout",
     "output_type": "stream",
     "text": [
      "4 = 2 * 2\n",
      "6 = 2 * 3\n",
      "8 = 2 * 4\n",
      "9 = 3 * 3\n",
      "10 = 2 * 5\n"
     ]
    }
   ],
   "source": [
    "N = 10\n",
    "for n in range(2, N+1):\n",
    "    for a in range(2, n//2+1):\n",
    "        if n % a == 0:\n",
    "            print(n, '=', a, '*', n//a)\n",
    "            break"
   ]
  },
  {
   "cell_type": "markdown",
   "metadata": {},
   "source": [
    "## for文およびwhile文のelse節\n",
    "\n",
    "for文による反復において，反復が最後まで到達した後に実行する処理をelse節に記述できる．while文による反復では，条件が満たされなくなったときの処理をelse節に記述できる．"
   ]
  },
  {
   "cell_type": "code",
   "execution_count": 41,
   "metadata": {},
   "outputs": [
    {
     "name": "stdout",
     "output_type": "stream",
     "text": [
      "2 は素数\n",
      "3 は素数\n",
      "4 = 2 * 2\n",
      "5 は素数\n",
      "6 = 2 * 3\n",
      "7 は素数\n",
      "8 = 2 * 4\n",
      "9 = 3 * 3\n",
      "10 = 2 * 5\n"
     ]
    }
   ],
   "source": [
    "N = 10\n",
    "for n in range(2, N+1):\n",
    "    for a in range(2, n//2+1):\n",
    "        if n % a == 0:\n",
    "            print(n, '=', a, '*', n//a)\n",
    "            break\n",
    "    else:\n",
    "        print(n, 'は素数')"
   ]
  }
 ],
 "metadata": {
  "kernelspec": {
   "display_name": "Python 3",
   "language": "python",
   "name": "python3"
  },
  "language_info": {
   "codemirror_mode": {
    "name": "ipython",
    "version": 3
   },
   "file_extension": ".py",
   "mimetype": "text/x-python",
   "name": "python",
   "nbconvert_exporter": "python",
   "pygments_lexer": "ipython3",
   "version": "3.8.3"
  }
 },
 "nbformat": 4,
 "nbformat_minor": 4
}
