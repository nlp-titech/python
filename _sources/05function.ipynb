{
 "cells": [
  {
   "cell_type": "markdown",
   "metadata": {},
   "source": [
    "# 関数"
   ]
  },
  {
   "cell_type": "markdown",
   "metadata": {},
   "source": [
    "## 関数の定義と引数\n",
    "[関数を定義](https://docs.python.org/ja/3/reference/compound_stmts.html#function-definitions)するには`def`キーワードを用いる．関数が呼び出されたときの実行内容は，インデントを1つ下げて記述する．\n",
    "\n",
    "```python\n",
    "def 関数名(引数1の変数, 引数2の変数, ...):\n",
    "    # 関数が呼び出されたときに実行する処理\n",
    "```"
   ]
  },
  {
   "cell_type": "markdown",
   "metadata": {},
   "source": [
    "関数`w`は１つの引数`n`を受け取る関数で，その実行内容は文字`'w'`を`n`回表示することである．"
   ]
  },
  {
   "cell_type": "code",
   "execution_count": 1,
   "metadata": {},
   "outputs": [],
   "source": [
    "def w(n):\n",
    "    for i in range(n):\n",
    "        print('w', end='')"
   ]
  },
  {
   "cell_type": "code",
   "execution_count": 2,
   "metadata": {},
   "outputs": [
    {
     "name": "stdout",
     "output_type": "stream",
     "text": [
      "wwwww"
     ]
    }
   ],
   "source": [
    "w(5)"
   ]
  },
  {
   "cell_type": "code",
   "execution_count": 3,
   "metadata": {},
   "outputs": [
    {
     "name": "stdout",
     "output_type": "stream",
     "text": [
      "www"
     ]
    }
   ],
   "source": [
    "w(3)"
   ]
  },
  {
   "cell_type": "markdown",
   "metadata": {},
   "source": [
    "以下の関数`w`は２つの引数`n`と`c`を受け取り，文字`c`を`n`回表示する．"
   ]
  },
  {
   "cell_type": "code",
   "execution_count": 4,
   "metadata": {},
   "outputs": [],
   "source": [
    "def w(n, c):\n",
    "    for i in range(n):\n",
    "        print(c, end='')    "
   ]
  },
  {
   "cell_type": "code",
   "execution_count": 5,
   "metadata": {},
   "outputs": [
    {
     "name": "stdout",
     "output_type": "stream",
     "text": [
      "フフフ"
     ]
    }
   ],
   "source": [
    "w(3, 'フ')"
   ]
  },
  {
   "cell_type": "markdown",
   "metadata": {},
   "source": [
    "以下の関数`w`は２つの引数`n`と`c`を受け取り，文字`c`を`n`回表示する．ただし，引数`c`が指定されなかったときは，`c`の規定値（デフォルト値）として`'w'`を用いる．"
   ]
  },
  {
   "cell_type": "code",
   "execution_count": 6,
   "metadata": {},
   "outputs": [],
   "source": [
    "def w(n, c='w'):\n",
    "    for i in range(n):\n",
    "        print(c, end='')"
   ]
  },
  {
   "cell_type": "code",
   "execution_count": 7,
   "metadata": {},
   "outputs": [
    {
     "name": "stdout",
     "output_type": "stream",
     "text": [
      "フフフ"
     ]
    }
   ],
   "source": [
    "w(3, 'フ')"
   ]
  },
  {
   "cell_type": "code",
   "execution_count": 8,
   "metadata": {},
   "outputs": [
    {
     "name": "stdout",
     "output_type": "stream",
     "text": [
      "www"
     ]
    }
   ],
   "source": [
    "w(3)"
   ]
  },
  {
   "cell_type": "markdown",
   "metadata": {},
   "source": [
    "以下の関数`w`は２つの引数`n`と`c`を受け取り，文字`c`を`n`回表示する．ただし，引数`n`が指定されなかったときはデフォルト値として`3`を，引数`c`が指定されなかったときはデフォルト値とし`'w'`を用いる．"
   ]
  },
  {
   "cell_type": "code",
   "execution_count": 9,
   "metadata": {},
   "outputs": [],
   "source": [
    "def w(n=3, c='w'):\n",
    "    for i in range(n):\n",
    "        print(c, end='')"
   ]
  },
  {
   "cell_type": "code",
   "execution_count": 10,
   "metadata": {},
   "outputs": [
    {
     "name": "stdout",
     "output_type": "stream",
     "text": [
      "フフフフフ"
     ]
    }
   ],
   "source": [
    "w(5, 'フ')"
   ]
  },
  {
   "cell_type": "markdown",
   "metadata": {},
   "source": [
    "`n`の引数を省略し，`c`の引数だけを指定するために，以下のような関数呼び出しを行うとエラーになる．"
   ]
  },
  {
   "cell_type": "code",
   "execution_count": 11,
   "metadata": {
    "tags": [
     "raises-exception"
    ]
   },
   "outputs": [
    {
     "ename": "SyntaxError",
     "evalue": "invalid syntax (<ipython-input-11-7c77a825b8d7>, line 1)",
     "output_type": "error",
     "traceback": [
      "\u001b[0;36m  File \u001b[0;32m\"<ipython-input-11-7c77a825b8d7>\"\u001b[0;36m, line \u001b[0;32m1\u001b[0m\n\u001b[0;31m    w(, 'フ')\u001b[0m\n\u001b[0m      ^\u001b[0m\n\u001b[0;31mSyntaxError\u001b[0m\u001b[0;31m:\u001b[0m invalid syntax\n"
     ]
    }
   ],
   "source": [
    "w(, 'フ')"
   ]
  },
  {
   "cell_type": "markdown",
   "metadata": {},
   "source": [
    "このような時は，引数を渡したい変数を明示的に指定して関数を呼び出せばよい．"
   ]
  },
  {
   "cell_type": "code",
   "execution_count": 12,
   "metadata": {},
   "outputs": [
    {
     "name": "stdout",
     "output_type": "stream",
     "text": [
      "フフフ"
     ]
    }
   ],
   "source": [
    "w(c='フ')"
   ]
  },
  {
   "cell_type": "markdown",
   "metadata": {},
   "source": [
    "以下の関数呼び出しはすべて同じ結果になる．"
   ]
  },
  {
   "cell_type": "code",
   "execution_count": 13,
   "metadata": {},
   "outputs": [
    {
     "name": "stdout",
     "output_type": "stream",
     "text": [
      "フフフフフ"
     ]
    }
   ],
   "source": [
    "w(5, c='フ')"
   ]
  },
  {
   "cell_type": "code",
   "execution_count": 14,
   "metadata": {},
   "outputs": [
    {
     "name": "stdout",
     "output_type": "stream",
     "text": [
      "フフフフフ"
     ]
    }
   ],
   "source": [
    "w(n=5, c='フ')"
   ]
  },
  {
   "cell_type": "code",
   "execution_count": 15,
   "metadata": {},
   "outputs": [
    {
     "name": "stdout",
     "output_type": "stream",
     "text": [
      "フフフフフ"
     ]
    }
   ],
   "source": [
    "w(c='フ', n=5)"
   ]
  },
  {
   "cell_type": "markdown",
   "metadata": {},
   "source": [
    "## 関数の戻り値"
   ]
  },
  {
   "cell_type": "markdown",
   "metadata": {},
   "source": [
    "関数から値を返すには[return](https://docs.python.org/ja/3/reference/simple_stmts.html#the-return-statement)文を用いる．"
   ]
  },
  {
   "cell_type": "code",
   "execution_count": 16,
   "metadata": {},
   "outputs": [],
   "source": [
    "def plus_one(x):\n",
    "    x += 1\n",
    "    return x"
   ]
  },
  {
   "cell_type": "markdown",
   "metadata": {},
   "source": [
    "関数の戻り値を評価することで，関数の値が表示される．"
   ]
  },
  {
   "cell_type": "code",
   "execution_count": 17,
   "metadata": {},
   "outputs": [
    {
     "data": {
      "text/plain": [
       "4"
      ]
     },
     "execution_count": 17,
     "metadata": {},
     "output_type": "execute_result"
    }
   ],
   "source": [
    "plus_one(3)"
   ]
  },
  {
   "cell_type": "markdown",
   "metadata": {},
   "source": [
    "先ほど説明した関数`w`は，関数の内部でprint関数を呼び出して文字を表示していたが，ここではincrement関数の戻り値が評価されることによって，関数の値が表示されている．以下のように，関数の戻り値を変数`r`に代入した段階では値が表示されず，変数`r`を評価してから値が表示される．"
   ]
  },
  {
   "cell_type": "code",
   "execution_count": 18,
   "metadata": {},
   "outputs": [],
   "source": [
    "r = plus_one(0)"
   ]
  },
  {
   "cell_type": "code",
   "execution_count": 19,
   "metadata": {},
   "outputs": [
    {
     "data": {
      "text/plain": [
       "1"
      ]
     },
     "execution_count": 19,
     "metadata": {},
     "output_type": "execute_result"
    }
   ],
   "source": [
    "r"
   ]
  },
  {
   "cell_type": "markdown",
   "metadata": {},
   "source": [
    "関数の戻り値として文字列を返すこともできる．"
   ]
  },
  {
   "cell_type": "code",
   "execution_count": 20,
   "metadata": {},
   "outputs": [],
   "source": [
    "def measure_word(n):\n",
    "    if n in (1, 6, 8, 10):\n",
    "        return 'ぽん'\n",
    "    elif n == 3:\n",
    "        return 'ぼん'\n",
    "    else:\n",
    "        return 'ほん'"
   ]
  },
  {
   "cell_type": "code",
   "execution_count": 21,
   "metadata": {},
   "outputs": [
    {
     "name": "stdout",
     "output_type": "stream",
     "text": [
      "1 ぽん\n",
      "2 ほん\n",
      "3 ぼん\n",
      "4 ほん\n",
      "5 ほん\n",
      "6 ぽん\n",
      "7 ほん\n",
      "8 ぽん\n",
      "9 ほん\n",
      "10 ぽん\n"
     ]
    }
   ],
   "source": [
    "for i in range(1, 11):\n",
    "    print(i, measure_word(i))"
   ]
  },
  {
   "cell_type": "markdown",
   "metadata": {},
   "source": [
    "関数の戻り値として，複数の値を返すこともできる（厳密には複数の値がタプルと呼ばれる１つのオブジェクトにまとめられてから返され，その戻り値が関数の呼び出し元で分解される）．"
   ]
  },
  {
   "cell_type": "code",
   "execution_count": 22,
   "metadata": {},
   "outputs": [],
   "source": [
    "def fg(x):\n",
    "    return x ** 2 - 2, 2 * x"
   ]
  },
  {
   "cell_type": "code",
   "execution_count": 23,
   "metadata": {},
   "outputs": [],
   "source": [
    "fx, gx = fg(0)"
   ]
  },
  {
   "cell_type": "code",
   "execution_count": 24,
   "metadata": {},
   "outputs": [
    {
     "data": {
      "text/plain": [
       "-2"
      ]
     },
     "execution_count": 24,
     "metadata": {},
     "output_type": "execute_result"
    }
   ],
   "source": [
    "fx"
   ]
  },
  {
   "cell_type": "code",
   "execution_count": 25,
   "metadata": {},
   "outputs": [
    {
     "data": {
      "text/plain": [
       "0"
      ]
     },
     "execution_count": 25,
     "metadata": {},
     "output_type": "execute_result"
    }
   ],
   "source": [
    "gx"
   ]
  },
  {
   "cell_type": "markdown",
   "metadata": {},
   "source": [
    "以下の関数divisorは与えられた整数`n`に約数があれば，約数のなかで最小のものを返す．"
   ]
  },
  {
   "cell_type": "code",
   "execution_count": 26,
   "metadata": {},
   "outputs": [],
   "source": [
    "def divisor(n):\n",
    "    for a in range(2, n//2+1):\n",
    "        if n % a == 0:\n",
    "            return a"
   ]
  },
  {
   "cell_type": "code",
   "execution_count": 27,
   "metadata": {},
   "outputs": [
    {
     "data": {
      "text/plain": [
       "2"
      ]
     },
     "execution_count": 27,
     "metadata": {},
     "output_type": "execute_result"
    }
   ],
   "source": [
    "divisor(12)"
   ]
  },
  {
   "cell_type": "markdown",
   "metadata": {},
   "source": [
    "`n`が素数の場合（約数がない場合）はreturn文が実行されないため，値を返さない．"
   ]
  },
  {
   "cell_type": "code",
   "execution_count": 28,
   "metadata": {},
   "outputs": [],
   "source": [
    "divisor(11)"
   ]
  },
  {
   "cell_type": "markdown",
   "metadata": {},
   "source": [
    "より正確には，`None`と呼ばれる特殊な定数が返されている．"
   ]
  },
  {
   "cell_type": "code",
   "execution_count": 29,
   "metadata": {},
   "outputs": [
    {
     "data": {
      "text/plain": [
       "NoneType"
      ]
     },
     "execution_count": 29,
     "metadata": {},
     "output_type": "execute_result"
    }
   ],
   "source": [
    "a = divisor(11)\n",
    "type(a)"
   ]
  },
  {
   "cell_type": "markdown",
   "metadata": {},
   "source": [
    "値が`None`かどうかは，オブジェクトの同一性を検査する演算子`is`を用いる（`divisor(n) == None`とは書かない）．これは慣習だと思ったほうがよい（正確な理由はオブジェクトの[比較](https://docs.python.org/ja/3/library/stdtypes.html#comparisons)がカスタマイズされたとしても`None`との比較が正しく行われるようにするためである）．"
   ]
  },
  {
   "cell_type": "code",
   "execution_count": 30,
   "metadata": {},
   "outputs": [
    {
     "name": "stdout",
     "output_type": "stream",
     "text": [
      "11 は素数\n"
     ]
    }
   ],
   "source": [
    "n = 11\n",
    "if divisor(n) is None:\n",
    "    print(n, 'は素数')\n",
    "else:\n",
    "    print(n, 'は素数ではない')"
   ]
  },
  {
   "cell_type": "markdown",
   "metadata": {},
   "source": [
    "## ドキュメンテーション文字列"
   ]
  },
  {
   "cell_type": "markdown",
   "metadata": {},
   "source": [
    "関数宣言の直後に文字列を書くと，ドキュメンテーション文字列として扱われる．他のプログラミング言語ではコメントとして記述することが多いが，ドキュメンテーション文字列はインタプリタ上で参照可能であるうえ，[Sphinx](https://www.sphinx-doc.org/)などのドキュメンテーション生成ツールなどで用いられる．"
   ]
  },
  {
   "cell_type": "code",
   "execution_count": 31,
   "metadata": {},
   "outputs": [],
   "source": [
    "def gcd(x, y):\n",
    "    \"\"\"\n",
    "    Find the greatest common divisor of the given numbers.\n",
    "    \n",
    "    >>> gcd(60, 48)\n",
    "    12\n",
    "    \n",
    "    >>> gcd(17, 53)\n",
    "    1\n",
    "    \"\"\"\n",
    "    while y != 0:\n",
    "        (x, y) = (y, x % y)\n",
    "    return x"
   ]
  },
  {
   "cell_type": "markdown",
   "metadata": {},
   "source": [
    "ドキュメンテーション文字列は[help](https://docs.python.org/ja/3/library/functions.html#help)関数で参照できる．"
   ]
  },
  {
   "cell_type": "code",
   "execution_count": 32,
   "metadata": {},
   "outputs": [
    {
     "name": "stdout",
     "output_type": "stream",
     "text": [
      "Help on function gcd in module __main__:\n",
      "\n",
      "gcd(x, y)\n",
      "    Find the greatest common divisor of the given numbers.\n",
      "    \n",
      "    >>> gcd(60, 48)\n",
      "    12\n",
      "    \n",
      "    >>> gcd(17, 53)\n",
      "    1\n",
      "\n"
     ]
    }
   ],
   "source": [
    "help(gcd)"
   ]
  },
  {
   "cell_type": "markdown",
   "metadata": {},
   "source": [
    "Jupyterでは関数名に続けて`?`を書くことで，ドキュメンテーション文字列を参照できる．"
   ]
  },
  {
   "cell_type": "code",
   "execution_count": 33,
   "metadata": {},
   "outputs": [
    {
     "data": {
      "text/plain": [
       "\u001b[0;31mSignature:\u001b[0m \u001b[0mgcd\u001b[0m\u001b[0;34m(\u001b[0m\u001b[0mx\u001b[0m\u001b[0;34m,\u001b[0m \u001b[0my\u001b[0m\u001b[0;34m)\u001b[0m\u001b[0;34m\u001b[0m\u001b[0;34m\u001b[0m\u001b[0m\n",
       "\u001b[0;31mDocstring:\u001b[0m\n",
       "Find the greatest common divisor of the given numbers.\n",
       "\n",
       ">>> gcd(60, 48)\n",
       "12\n",
       "\n",
       ">>> gcd(17, 53)\n",
       "1\n",
       "\u001b[0;31mFile:\u001b[0m      /mnt/c/Users/okazaki/Documents/projects/python/<ipython-input-31-5209d8471bf3>\n",
       "\u001b[0;31mType:\u001b[0m      function\n"
      ]
     },
     "metadata": {},
     "output_type": "display_data"
    }
   ],
   "source": [
    "gcd?"
   ]
  },
  {
   "cell_type": "markdown",
   "metadata": {},
   "source": [
    "なお，ドキュメンテーション文字列に含まれている実行例を使って，関数のテストを実行することができる．gcd関数のドキュメンテーション文字列には以下の実行例が書かれている．実際に関数を実行したけっか，期待通りの値が返されるかどうか，テストできる．\n",
    "```\n",
    ">>> gcd(60, 48)\n",
    "12\n",
    "\n",
    ">>> gcd(17, 53)\n",
    "1\n",
    "```"
   ]
  },
  {
   "cell_type": "code",
   "execution_count": 34,
   "metadata": {},
   "outputs": [
    {
     "name": "stdout",
     "output_type": "stream",
     "text": [
      "Finding tests in NoName\n",
      "Trying:\n",
      "    gcd(60, 48)\n",
      "Expecting:\n",
      "    12\n",
      "ok\n",
      "Trying:\n",
      "    gcd(17, 53)\n",
      "Expecting:\n",
      "    1\n",
      "ok\n"
     ]
    }
   ],
   "source": [
    "import doctest\n",
    "doctest.run_docstring_examples(gcd, globals(), verbose=True)"
   ]
  },
  {
   "cell_type": "markdown",
   "metadata": {},
   "source": [
    "## 変数のスコープと関数"
   ]
  },
  {
   "cell_type": "markdown",
   "metadata": {},
   "source": [
    "Jupyterのセルで定義された変数はグローバル変数として維持される．"
   ]
  },
  {
   "cell_type": "code",
   "execution_count": 35,
   "metadata": {},
   "outputs": [],
   "source": [
    "x = 1"
   ]
  },
  {
   "cell_type": "markdown",
   "metadata": {},
   "source": [
    "関数の中からグローバル変数の値を取得できる．"
   ]
  },
  {
   "cell_type": "code",
   "execution_count": 36,
   "metadata": {},
   "outputs": [
    {
     "name": "stdout",
     "output_type": "stream",
     "text": [
      "関数f: x = 1\n"
     ]
    }
   ],
   "source": [
    "def f():\n",
    "    print('関数f: x =', x)\n",
    "\n",
    "f()"
   ]
  },
  {
   "cell_type": "markdown",
   "metadata": {},
   "source": [
    "関数の中で変数を定義すると，その変数は関数内のローカル変数として管理される．"
   ]
  },
  {
   "cell_type": "code",
   "execution_count": 37,
   "metadata": {},
   "outputs": [
    {
     "name": "stdout",
     "output_type": "stream",
     "text": [
      "関数f: x = 0\n",
      "関数外: x = 1\n"
     ]
    }
   ],
   "source": [
    "def f():\n",
    "    x = 0\n",
    "    print('関数f: x =', x)\n",
    "\n",
    "f()\n",
    "print('関数外: x =', x)"
   ]
  },
  {
   "cell_type": "markdown",
   "metadata": {},
   "source": [
    "グローバル変数の値をどうしても更新したい時は，[global](https://docs.python.org/ja/3/reference/simple_stmts.html#the-global-statement)文を使う（**普通は使わない**）．"
   ]
  },
  {
   "cell_type": "code",
   "execution_count": 38,
   "metadata": {},
   "outputs": [
    {
     "name": "stdout",
     "output_type": "stream",
     "text": [
      "関数f: x = 0\n",
      "関数外: x = 0\n"
     ]
    }
   ],
   "source": [
    "def f():\n",
    "    global x\n",
    "    x = 0\n",
    "    print('関数f: x =', x)\n",
    "\n",
    "f()\n",
    "print('関数外: x =', x)"
   ]
  },
  {
   "cell_type": "markdown",
   "metadata": {},
   "source": [
    "関数内のローカル変数に別の関数からアクセスすることはできない．以下のコードでは，関数`f`の中で関数`g`で定義された変数`z`にアクセスできないため，エラーとなる．"
   ]
  },
  {
   "cell_type": "code",
   "execution_count": 39,
   "metadata": {
    "tags": [
     "raises-exception"
    ]
   },
   "outputs": [
    {
     "ename": "NameError",
     "evalue": "name 'z' is not defined",
     "output_type": "error",
     "traceback": [
      "\u001b[0;31m---------------------------------------------------------------------------\u001b[0m",
      "\u001b[0;31mNameError\u001b[0m                                 Traceback (most recent call last)",
      "\u001b[0;32m<ipython-input-39-ec0738dc4dae>\u001b[0m in \u001b[0;36m<module>\u001b[0;34m\u001b[0m\n\u001b[1;32m      6\u001b[0m     \u001b[0mf\u001b[0m\u001b[0;34m(\u001b[0m\u001b[0;34m)\u001b[0m\u001b[0;34m\u001b[0m\u001b[0;34m\u001b[0m\u001b[0m\n\u001b[1;32m      7\u001b[0m \u001b[0;34m\u001b[0m\u001b[0m\n\u001b[0;32m----> 8\u001b[0;31m \u001b[0mg\u001b[0m\u001b[0;34m(\u001b[0m\u001b[0;34m)\u001b[0m\u001b[0;34m\u001b[0m\u001b[0;34m\u001b[0m\u001b[0m\n\u001b[0m",
      "\u001b[0;32m<ipython-input-39-ec0738dc4dae>\u001b[0m in \u001b[0;36mg\u001b[0;34m()\u001b[0m\n\u001b[1;32m      4\u001b[0m \u001b[0;32mdef\u001b[0m \u001b[0mg\u001b[0m\u001b[0;34m(\u001b[0m\u001b[0;34m)\u001b[0m\u001b[0;34m:\u001b[0m\u001b[0;34m\u001b[0m\u001b[0;34m\u001b[0m\u001b[0m\n\u001b[1;32m      5\u001b[0m     \u001b[0mz\u001b[0m \u001b[0;34m=\u001b[0m \u001b[0;36m1\u001b[0m\u001b[0;34m\u001b[0m\u001b[0;34m\u001b[0m\u001b[0m\n\u001b[0;32m----> 6\u001b[0;31m     \u001b[0mf\u001b[0m\u001b[0;34m(\u001b[0m\u001b[0;34m)\u001b[0m\u001b[0;34m\u001b[0m\u001b[0;34m\u001b[0m\u001b[0m\n\u001b[0m\u001b[1;32m      7\u001b[0m \u001b[0;34m\u001b[0m\u001b[0m\n\u001b[1;32m      8\u001b[0m \u001b[0mg\u001b[0m\u001b[0;34m(\u001b[0m\u001b[0;34m)\u001b[0m\u001b[0;34m\u001b[0m\u001b[0;34m\u001b[0m\u001b[0m\n",
      "\u001b[0;32m<ipython-input-39-ec0738dc4dae>\u001b[0m in \u001b[0;36mf\u001b[0;34m()\u001b[0m\n\u001b[1;32m      1\u001b[0m \u001b[0;32mdef\u001b[0m \u001b[0mf\u001b[0m\u001b[0;34m(\u001b[0m\u001b[0;34m)\u001b[0m\u001b[0;34m:\u001b[0m\u001b[0;34m\u001b[0m\u001b[0;34m\u001b[0m\u001b[0m\n\u001b[0;32m----> 2\u001b[0;31m     \u001b[0mprint\u001b[0m\u001b[0;34m(\u001b[0m\u001b[0mz\u001b[0m\u001b[0;34m)\u001b[0m\u001b[0;34m\u001b[0m\u001b[0;34m\u001b[0m\u001b[0m\n\u001b[0m\u001b[1;32m      3\u001b[0m \u001b[0;34m\u001b[0m\u001b[0m\n\u001b[1;32m      4\u001b[0m \u001b[0;32mdef\u001b[0m \u001b[0mg\u001b[0m\u001b[0;34m(\u001b[0m\u001b[0;34m)\u001b[0m\u001b[0;34m:\u001b[0m\u001b[0;34m\u001b[0m\u001b[0;34m\u001b[0m\u001b[0m\n\u001b[1;32m      5\u001b[0m     \u001b[0mz\u001b[0m \u001b[0;34m=\u001b[0m \u001b[0;36m1\u001b[0m\u001b[0;34m\u001b[0m\u001b[0;34m\u001b[0m\u001b[0m\n",
      "\u001b[0;31mNameError\u001b[0m: name 'z' is not defined"
     ]
    }
   ],
   "source": [
    "def f():\n",
    "    print(z)\n",
    "    \n",
    "def g():\n",
    "    z = 1\n",
    "    f()\n",
    "\n",
    "g()"
   ]
  },
  {
   "cell_type": "markdown",
   "metadata": {},
   "source": [
    "関数の引数で渡された変数の値を関数内で変更しても，呼び出し元の変数の値に影響を与えない．ただし，後述するコレクション（リストや辞書など）を引数に渡したときには異なる挙動を示す．以下のコードでは，関数内で`x += 1`されるが，呼び出し元の変数の値は変更されない．"
   ]
  },
  {
   "cell_type": "code",
   "execution_count": 40,
   "metadata": {},
   "outputs": [],
   "source": [
    "x = 1"
   ]
  },
  {
   "cell_type": "code",
   "execution_count": 41,
   "metadata": {},
   "outputs": [
    {
     "name": "stdout",
     "output_type": "stream",
     "text": [
      "関数f: x = 2\n",
      "関数外: x = 1\n"
     ]
    }
   ],
   "source": [
    "def f(x):\n",
    "    x += 1\n",
    "    print('関数f: x =', x)\n",
    "\n",
    "f(x)\n",
    "print('関数外: x =', x)"
   ]
  },
  {
   "cell_type": "markdown",
   "metadata": {},
   "source": [
    "## 関数オブジェクト"
   ]
  },
  {
   "cell_type": "markdown",
   "metadata": {},
   "source": [
    "$f(x) = x^2 - 2 = 0$の解を[Newton-Raphson法](https://ja.wikipedia.org/wiki/%E3%83%8B%E3%83%A5%E3%83%BC%E3%83%88%E3%83%B3%E6%B3%95)で求めるとき，$f(x)$と$f'(x)$の値を，それぞれ，関数fとgの呼び出しで取得できるようにすると，プログラムの見通しが良くなる．"
   ]
  },
  {
   "cell_type": "code",
   "execution_count": 42,
   "metadata": {},
   "outputs": [
    {
     "name": "stdout",
     "output_type": "stream",
     "text": [
      "1.4142135623746899\n"
     ]
    }
   ],
   "source": [
    "def f(x):\n",
    "    return x ** 2 - 2\n",
    "\n",
    "def g(x):\n",
    "    return 2 * x\n",
    "\n",
    "x = 1\n",
    "while True:\n",
    "    fx, gx = f(x), g(x)\n",
    "    if -1e-8 < fx < 1e-8:\n",
    "        break\n",
    "    x -= fx / gx\n",
    "print(x)"
   ]
  },
  {
   "cell_type": "markdown",
   "metadata": {},
   "source": [
    "これを，$h(x) = x^2 +5x + 6 = 0$の解を求めるプログラムに書き換えるには，例えば以下のような修正を行えばよい．\n",
    "+ $f(x)$と$f'(x)$の値を返す関数hfとhgを実装する\n",
    "+ Newton-Raphson法の実装で関数fとgを呼び出していた箇所を，hfとhgに変更する．\n",
    "\n",
    "ところが，この方針ではNewton-Raphson法の実装の多くの部分をコピー・ペーストすることになる．"
   ]
  },
  {
   "cell_type": "code",
   "execution_count": 43,
   "metadata": {},
   "outputs": [
    {
     "name": "stdout",
     "output_type": "stream",
     "text": [
      "-1.9999999999999991\n"
     ]
    }
   ],
   "source": [
    "def hf(x):\n",
    "    return x ** 2 + 5 * x + 6\n",
    "\n",
    "def hg(x):\n",
    "    return 2 * x + 5\n",
    "\n",
    "x = 1\n",
    "while True:\n",
    "    fx, gx = hf(x), hg(x)\n",
    "    if -1e-8 < fx < 1e-8:\n",
    "        break\n",
    "    x -= fx / gx\n",
    "print(x)"
   ]
  },
  {
   "cell_type": "markdown",
   "metadata": {},
   "source": [
    "また，Newton-Raphson法を実行するときの初期値を変更するには，冒頭の`x = 1`の行だけを変更するだけであるが，やはりNewton-Raphson法の実装の多くをコピー・ペーストする必要がある．"
   ]
  },
  {
   "cell_type": "code",
   "execution_count": 44,
   "metadata": {},
   "outputs": [
    {
     "name": "stdout",
     "output_type": "stream",
     "text": [
      "-3.0000000002328306\n"
     ]
    }
   ],
   "source": [
    "x = -4\n",
    "while True:\n",
    "    fx, gx = hf(x), hg(x)\n",
    "    if -1e-8 < fx < 1e-8:\n",
    "        break\n",
    "    x -= fx / gx\n",
    "print(x)"
   ]
  },
  {
   "cell_type": "markdown",
   "metadata": {},
   "source": [
    "そこで，Newton-Raphson法のアルゴリズムの実装を再利用できるようにするため，アルゴリズム本体を関数として実装する．以下のnewton_raphson関数は，\n",
    "\n",
    "+ 第１引数（`func_f`）に解を求めたい二次多項式を表現した**関数**を指定する\n",
    "+ 第２引数（`func_g`）に解を求めたい二次多項式の微分を表現した**関数**を指定する\n",
    "+ 第３引数（`x`）にNewton-Raphson法の初期値を指定する（省略された場合は$0$とする）"
   ]
  },
  {
   "cell_type": "code",
   "execution_count": 45,
   "metadata": {},
   "outputs": [],
   "source": [
    "def newton_raphson(func_f, func_g, x=0):\n",
    "    while True:\n",
    "        fx, gx = func_f(x), func_g(x)\n",
    "        if -1e-8 < fx < 1e-8:\n",
    "            return x\n",
    "        x -= fx / gx"
   ]
  },
  {
   "cell_type": "markdown",
   "metadata": {},
   "source": [
    "既に定義済みの関数hfに対応する方程式の解を求めるには，次のようにすればよい．"
   ]
  },
  {
   "cell_type": "code",
   "execution_count": 46,
   "metadata": {},
   "outputs": [
    {
     "data": {
      "text/plain": [
       "-1.9999999999946272"
      ]
     },
     "execution_count": 46,
     "metadata": {},
     "output_type": "execute_result"
    }
   ],
   "source": [
    "newton_raphson(hf, hg)"
   ]
  },
  {
   "cell_type": "markdown",
   "metadata": {},
   "source": [
    "初期値を$x=-4$として，関数hfに対応する方程式の解を求める（もうひとつの解が求まる）．"
   ]
  },
  {
   "cell_type": "code",
   "execution_count": 47,
   "metadata": {},
   "outputs": [
    {
     "data": {
      "text/plain": [
       "-3.0000000002328306"
      ]
     },
     "execution_count": 47,
     "metadata": {},
     "output_type": "execute_result"
    }
   ],
   "source": [
    "newton_raphson(hf, hg, -4)"
   ]
  },
  {
   "cell_type": "markdown",
   "metadata": {},
   "source": [
    "異なる関数（既に定義済みの関数fとg）に対応する方程式の解を求めるには，newton_raphson関数の引数を変更するだけでよい．"
   ]
  },
  {
   "cell_type": "code",
   "execution_count": 48,
   "metadata": {},
   "outputs": [
    {
     "data": {
      "text/plain": [
       "1.4142135623746899"
      ]
     },
     "execution_count": 48,
     "metadata": {},
     "output_type": "execute_result"
    }
   ],
   "source": [
    "newton_raphson(f, g, 1)"
   ]
  },
  {
   "cell_type": "markdown",
   "metadata": {},
   "source": [
    "newton_raphson関数のように，引数に関数を渡すことができるのは，変数も関数もオブジェクトへの参照として扱われているためである．"
   ]
  },
  {
   "cell_type": "code",
   "execution_count": 49,
   "metadata": {},
   "outputs": [
    {
     "data": {
      "text/plain": [
       "<function __main__.f(x)>"
      ]
     },
     "execution_count": 49,
     "metadata": {},
     "output_type": "execute_result"
    }
   ],
   "source": [
    "f"
   ]
  },
  {
   "cell_type": "code",
   "execution_count": 50,
   "metadata": {},
   "outputs": [
    {
     "data": {
      "text/plain": [
       "function"
      ]
     },
     "execution_count": 50,
     "metadata": {},
     "output_type": "execute_result"
    }
   ],
   "source": [
    "type(f)"
   ]
  },
  {
   "cell_type": "markdown",
   "metadata": {},
   "source": [
    "関数`f`を別の変数`q`に代入すると，`q`も同じ関数として呼び出すことができる．"
   ]
  },
  {
   "cell_type": "code",
   "execution_count": 51,
   "metadata": {},
   "outputs": [],
   "source": [
    "q = f"
   ]
  },
  {
   "cell_type": "code",
   "execution_count": 52,
   "metadata": {},
   "outputs": [
    {
     "data": {
      "text/plain": [
       "-2"
      ]
     },
     "execution_count": 52,
     "metadata": {},
     "output_type": "execute_result"
    }
   ],
   "source": [
    "q(0)"
   ]
  },
  {
   "cell_type": "code",
   "execution_count": 53,
   "metadata": {},
   "outputs": [
    {
     "data": {
      "text/plain": [
       "-2"
      ]
     },
     "execution_count": 53,
     "metadata": {},
     "output_type": "execute_result"
    }
   ],
   "source": [
    "f(0)"
   ]
  },
  {
   "cell_type": "markdown",
   "metadata": {},
   "source": [
    "無名関数（[lambda](https://docs.python.org/ja/3/reference/expressions.html#lambda)関数）を使うと，defキーワードで関数を定義せずに，簡単な関数を定義できる．無名関数は，以下のように記述する\n",
    "```python\n",
    "lambda 引数のリスト: 返り値\n",
    "```\n",
    "\n",
    "手始めに，$3x^2+6x-72$をlambda関数として定義し，その関数オブジェクトを変数`f`に代入する．"
   ]
  },
  {
   "cell_type": "code",
   "execution_count": 54,
   "metadata": {},
   "outputs": [],
   "source": [
    "f = lambda x: 3 * x ** 2 + 6 * x - 72"
   ]
  },
  {
   "cell_type": "markdown",
   "metadata": {},
   "source": [
    "変数`f`は関数として使うことができる．"
   ]
  },
  {
   "cell_type": "code",
   "execution_count": 55,
   "metadata": {},
   "outputs": [
    {
     "data": {
      "text/plain": [
       "-72"
      ]
     },
     "execution_count": 55,
     "metadata": {},
     "output_type": "execute_result"
    }
   ],
   "source": [
    "f(0)"
   ]
  },
  {
   "cell_type": "code",
   "execution_count": 56,
   "metadata": {},
   "outputs": [
    {
     "data": {
      "text/plain": [
       "<function __main__.<lambda>(x)>"
      ]
     },
     "execution_count": 56,
     "metadata": {},
     "output_type": "execute_result"
    }
   ],
   "source": [
    "f"
   ]
  },
  {
   "cell_type": "code",
   "execution_count": 57,
   "metadata": {},
   "outputs": [
    {
     "data": {
      "text/plain": [
       "function"
      ]
     },
     "execution_count": 57,
     "metadata": {},
     "output_type": "execute_result"
    }
   ],
   "source": [
    "type(f)"
   ]
  },
  {
   "cell_type": "markdown",
   "metadata": {},
   "source": [
    "関数を定義せずに$3x^2+6x-72=0$の解を求めるには，$3x^2+6x-72$と，その微分である$6x+6$をlambda関数として定義し，newton_raphson関数の引数に渡せばよい．"
   ]
  },
  {
   "cell_type": "code",
   "execution_count": 58,
   "metadata": {},
   "outputs": [
    {
     "data": {
      "text/plain": [
       "4.000000000053722"
      ]
     },
     "execution_count": 58,
     "metadata": {},
     "output_type": "execute_result"
    }
   ],
   "source": [
    "newton_raphson(lambda x: 3 * x ** 2 + 6 * x - 72, lambda x: 6 * x + 6)"
   ]
  }
 ],
 "metadata": {
  "kernelspec": {
   "display_name": "Python 3",
   "language": "python",
   "name": "python3"
  },
  "language_info": {
   "codemirror_mode": {
    "name": "ipython",
    "version": 3
   },
   "file_extension": ".py",
   "mimetype": "text/x-python",
   "name": "python",
   "nbconvert_exporter": "python",
   "pygments_lexer": "ipython3",
   "version": "3.8.3"
  }
 },
 "nbformat": 4,
 "nbformat_minor": 4
}
