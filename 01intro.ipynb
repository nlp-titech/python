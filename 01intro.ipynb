{
 "cells": [
  {
   "cell_type": "markdown",
   "metadata": {},
   "source": [
    "# Jupyter Notebook\n",
    "\n",
    "## Jupyter Notebookとは\n",
    "\n",
    "[Jupyter](https://jupyter.org/) Notebookは，プログラムとその実行結果，[Markdown](https://ja.wikipedia.org/wiki/Markdown)形式のドキュメント，[LaTeX](https://ja.wikipedia.org/wiki/LaTeX)形式（[MathJax](https://www.mathjax.org/)）の数式，図表などをまとめて記述・格納できるウェブアプリケーションである．データ分析や機械学習の実行過程の「ノート」をつける用途だけでなく，ブラウザ上でお手軽にプログラミングを体験する環境としても広く普及している．\n",
    "\n",
    "例えば，物理の解説とその実験を行うプログラム，その実行結果をまとめたノートを作ることができる．\n",
    "\n",
    "![Jupyter Notebookの例](assets/image/jupyter-notebook2.png)\n",
    "\n",
    "Jupyterの前身である[IPython Notebook](https://ipython.org/notebook.html)は，[Python](https://www.python.org/)のインタラクティブなシェルである[IPython](https://ipython.org/)のプロジェクトとして開発が進められ，研究者や開発者から急速な支持を集めた．プログラミング言語に依存した部分（カーネルと呼ばれる）を分離し，Python以外の言語のサポートも進んだことから，IPython NotebookはJupyterプロジェクトにスピンオフされた．"
   ]
  },
  {
   "cell_type": "markdown",
   "metadata": {},
   "source": [
    "## Google Colaboratory\n",
    "\n",
    "[Google Colaboratory](https://colab.research.google.com/)はGoogleが提供するクラウド実行型のJupyter環境である．後述する制限はあるものの，Googleアカウントがあれば無料で利用できる．詳しくは，[Colaboratory へようこそ（公式ドキュメント）](https://colab.research.google.com/notebooks/welcome.ipynb?hl=ja)を参照のこと．"
   ]
  },
  {
   "cell_type": "markdown",
   "metadata": {},
   "source": [
    "### Google Colaboratoryを開始する\n",
    "\n",
    "Googleアカウントにログインしたブラウザで，[https://colab.research.google.com/](https://colab.research.google.com/) にアクセスすればよい．以下の画面で「ノートブックを新規作成」を選ぶ．\n",
    "\n",
    "![新しいノートブックの作成](assets/image/colab-new.png)\n",
    "\n",
    "すると，以下の画面のように新しいノートブックが作成される．\n",
    "\n",
    "![新しく作成されたノートブック](assets/image/colab-clean.png)\n",
    "\n",
    "### セルの操作\n",
    "\n",
    "ノートブックはプログラムやテキストを記述する**セル**と呼ばれるブロックの集まりで構成されている．セルはプログラムを記述し，その実行結果を保持する**コードセル**と，文章を記述する**テキストセル**の2種類に大別される．新しく作成されたセルはコードセルとして動作する．\n",
    "\n",
    "Pythonのコードを実行するには，セルにプログラムを入力し，`⌘/Ctrl` + `Enter`キーを押す．すると，Googleのクラウドサーバ上でプログラムが実行され，その実行結果がブラウザに表示される．ここでは，以下のプログラムを入力・実行し，その出力が表示されている．\n",
    "\n",
    "```\n",
    "print('Hello, World!')\n",
    "```\n",
    "\n",
    "![コードを実行](assets/image/colab-code.png)\n",
    "\n",
    "テキストセルを作成するには，「挿入」メニューからテキストセルを追加するか，いったん作成されたコードセルを選択して，`⌘/Ctrl` + `m` -> `m`を押す．\n",
    "\n",
    "![テキストセルの挿入](assets/image/colab-insert-text.png)\n",
    "\n",
    "テキストセルでは[Markdown記法](https://colab.research.google.com/notebooks/markdown_guide.ipynb)を用いることができるほか，LaTeX形式で数式を記述できる．\n",
    "\n",
    "![テキストセルの編集](assets/image/colab-text.png)\n",
    "\n",
    "セルの位置の移動や出力の消去などは，メニューから行える．その他，Google Colaboratoryで便利なキー操作を以下に挙げる．なお，このキー操作は「ツール」メニューの「キーボード ショートカット」から一覧を閲覧したり，キー割り当てを変更できる．\n",
    "\n",
    "+ カーソル（十字）キー: 選択セルを変更\n",
    "+ `⌘/Ctrl` + `Enter`: 実行（コードセル），または確定（テキストセル）\n",
    "+ `⌘/Ctrl` + `m` -> `i`: 実行を中断\n",
    "+ `⌘/Ctrl` + `m` -> `a`: 上にコードセルを追加\n",
    "+ `⌘/Ctrl` + `m` -> `b`: 下にコードセルを追加\n",
    "+ `⌘/Ctrl` + `m` -> `d`: セルを削除\n",
    "+ `⌘/Ctrl` + `m` -> `y`: コードセルに変更\n",
    "+ `⌘/Ctrl` + `m` -> `m`: テキストセルに変更\n",
    "+ `⌘/Ctrl` + `m` -> `k`: セルを一つ上に移動\n",
    "+ `⌘/Ctrl` + `m` -> `j`: セルを一つ下に移動\n",
    "\n",
    "### ノートブックの保存，ダウンロード，アップロード\n",
    "\n",
    "左上の名前（デフォルトでは\"Untitled?.ipynb\"となっている）の部分をクリックすることで，保存するファイル名を変更できる．\n",
    "\n",
    "![ファイル名の変更](assets/image/colab-rename.png)\n",
    "\n",
    "作成したノートブックは「ファイル」->「.ipynb をダウンロード」をクリックすることで，ダウンロードできる．保存されるファイルの拡張子は\".ipynb\"である．\n",
    "\n",
    "![ノートブックのダウンロード](assets/image/colab-save.png)\n",
    "\n",
    "逆に，手元にある.ipynbファイルをアップロードして，Google Colaboratory上で閲覧したり，動かすこともできる．「ファイル」->「ノートブックをアップロード」をクリックし，以下の画面になったらアップロードしたいファイルをドラッグ・ドロップすればよい．\n",
    "\n",
    "![ノートブックのアップロード](assets/image/colab-upload.png)\n",
    "\n",
    "\n",
    "### 無料版Google Colaboratoryの制限\n",
    "\n",
    "Google Colaboratoryで新しいノートブックを開くと，プログラムの実行環境であるインスタンスが立ち上がる．そのインスタンスは**立ち上げから12時間で強制終了**となる．また，Colaboratoryにアクセスしているブラウザを閉じるなど，インスタンスとのセッションが切れた状態が90分続いても，強制終了となる．ただ，ノートブックそのものはGoogle Drive上に保存され続けるので，新たにノートブックを開いてインスタンスを立ち上げ直せば，再度実行することができる．プログラミングや機械学習の勉強用途であれば，無料版のGoogle Colaboratoryで十分と思われる．"
   ]
  },
  {
   "cell_type": "markdown",
   "metadata": {},
   "source": [
    "## 自分のパソコンにJupyterをインストールする\n",
    "\n",
    "Jupyterを自分のパソコンにインストールして動作させることもできる．この場合，Google Colaboratoryでノートブックを実行するときのような時間制限はない．Windows 10の場合，以下の2つの方法が現実的と思われる．\n",
    "\n",
    "1. [Windows Subsystem for Linux (WSL)](https://docs.microsoft.com/ja-jp/windows/wsl/about)上に[Ubuntu](https://ubuntu.com/)をインストールし，さらに[conda](https://www.anaconda.com/products/individual)をインストール\n",
    "1. Windows版の[Anaconda](https://www.anaconda.com/)をインストールする\n",
    "\n",
    "1.はインストールに手間がかかるが，Linux環境上でJupyterを動作させることができる．ネット上の多くの解説はLinux系の環境を前提としているため，こちらの方が環境の違いで悩まされずに済む．2.はお手軽にインストールできるが，コードセルでWindowsのコマンドしか実行できず，ネット上の解説の通りにならないことがある．また，デフォルトの文字コードが UTF-8 ではなく，Shift_JIS (CP932) になることにも注意が必要である．\n",
    "\n",
    "自分のパソコンにJupyterをインストールした場合は，Jupyter Notebookの進化版であるJupyter Labを使うことができる．\n",
    "\n",
    "![Jupyter Lab](assets/image/jupyter-lab.png)"
   ]
  },
  {
   "cell_type": "markdown",
   "metadata": {},
   "source": [
    "## Pythonことはじめ"
   ]
  },
  {
   "cell_type": "markdown",
   "metadata": {},
   "source": [
    "文字列はシングルクォーテーション（`'`），またはダブルクォーテーション（`\"`）で囲む．出力するには`print()`を用いる．改行文字`'\\n'`を末尾に付けなくても改行される．"
   ]
  },
  {
   "cell_type": "code",
   "execution_count": 1,
   "metadata": {},
   "outputs": [
    {
     "name": "stdout",
     "output_type": "stream",
     "text": [
      "Hello, world!\n"
     ]
    }
   ],
   "source": [
    "print('Hello, world!')"
   ]
  },
  {
   "cell_type": "markdown",
   "metadata": {},
   "source": [
    "Jupyter Notebookなどの対話的シェルでは，最後に書かれた式を評価した結果が出力される．"
   ]
  },
  {
   "cell_type": "code",
   "execution_count": 2,
   "metadata": {},
   "outputs": [
    {
     "data": {
      "text/plain": [
       "'Hello, world!!!'"
      ]
     },
     "execution_count": 2,
     "metadata": {},
     "output_type": "execute_result"
    }
   ],
   "source": [
    "'Hello, world!!!'"
   ]
  },
  {
   "cell_type": "markdown",
   "metadata": {},
   "source": [
    "`#`に続く記述はコメントとして扱われ，実行されない．"
   ]
  },
  {
   "cell_type": "code",
   "execution_count": 3,
   "metadata": {},
   "outputs": [
    {
     "name": "stdout",
     "output_type": "stream",
     "text": [
      "Hello, world!\n"
     ]
    }
   ],
   "source": [
    "# 'Hello, world!'という文字列を表示する．\n",
    "print('Hello, world!')"
   ]
  },
  {
   "cell_type": "markdown",
   "metadata": {},
   "source": [
    "## 参考資料\n",
    "\n",
    "+ [Pythonチュートリアル](https://docs.python.org/ja/3/tutorial/)\n",
    "+ [Dive Into Python 3 日本語版](http://diveintopython3-ja.rdy.jp/)\n",
    "+ [Pythonプログラミング入門](https://utokyo-ipp.github.io/index.html)（東京大学 数理・情報教育研究センター）\n",
    "+ [プログラミング演習 Python 2019](https://repository.kulib.kyoto-u.ac.jp/dspace/bitstream/2433/245698/1/Version2020_02_13_01.pdf)（京都大学 国際高等教育院）\n",
    "+ [コンピュータ処理](https://amorphous.tf.chiba-u.jp/lecture.files/chem_computer/index.html)（千葉大学 共生応用化学科）\n",
    "+ [Python入門](https://www.atmarkit.co.jp/ait/subtop/features/di/all.html#pythone585a5e99680)（@IT/Deep Insider）\n",
    "+ [機械学習＆ディープラーニング入門（作業環境準備編）](https://www.atmarkit.co.jp/ait/series/15223/)（@IT/Deep Insider）"
   ]
  }
 ],
 "metadata": {
  "kernelspec": {
   "display_name": "Python 3",
   "language": "python",
   "name": "python3"
  },
  "language_info": {
   "codemirror_mode": {
    "name": "ipython",
    "version": 3
   },
   "file_extension": ".py",
   "mimetype": "text/x-python",
   "name": "python",
   "nbconvert_exporter": "python",
   "pygments_lexer": "ipython3",
   "version": "3.8.3"
  }
 },
 "nbformat": 4,
 "nbformat_minor": 4
}
